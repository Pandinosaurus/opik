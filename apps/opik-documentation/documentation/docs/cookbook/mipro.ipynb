{
 "cells": [
  {
   "cell_type": "markdown",
   "metadata": {},
   "source": [
    "# Automatic Agent Optimization with MIPRO\n",
    "\n",
    "MIPRO (Multiprompt Instruction PRoposal Optimizer) is an optimizer you can use to create the best prompts from your task. You can read the original paper [here](https://arxiv.org/abs/2406.11695).\n",
    "\n",
    "This optimizer was popularized by the [DSPy library](https://dspy.ai/) that provided the first and most commonly used implementation.\n",
    "\n",
    "In the notebook below, we will re-implement the algorithm from scratch to get a better understanding of how it works."
   ]
  },
  {
   "cell_type": "markdown",
   "metadata": {},
   "source": [
    "## Optimization strategy\n",
    "\n",
    "The MIPRO algorithm was developed to optimize the multi-step LLM applications when you don't have labels for each step but rather global label for the entire task. This makes it a great algorithm to automatically optimize agents !"
   ]
  },
  {
   "cell_type": "markdown",
   "metadata": {},
   "source": [
    "## Define the agent\n",
    "\n",
    "To test the optimization algorithm, we are going to start by creating a very simple agent."
   ]
  },
  {
   "cell_type": "code",
   "execution_count": 4,
   "metadata": {},
   "outputs": [
    {
     "name": "stdout",
     "output_type": "stream",
     "text": [
      "Requirement already satisfied: openai in /opt/homebrew/Caskroom/miniconda/base/envs/py312_llm_eval/lib/python3.12/site-packages (1.59.6)\n",
      "Requirement already satisfied: anyio<5,>=3.5.0 in /opt/homebrew/Caskroom/miniconda/base/envs/py312_llm_eval/lib/python3.12/site-packages (from openai) (4.7.0)\n",
      "Requirement already satisfied: distro<2,>=1.7.0 in /opt/homebrew/Caskroom/miniconda/base/envs/py312_llm_eval/lib/python3.12/site-packages (from openai) (1.9.0)\n",
      "Requirement already satisfied: httpx<1,>=0.23.0 in /opt/homebrew/Caskroom/miniconda/base/envs/py312_llm_eval/lib/python3.12/site-packages (from openai) (0.27.2)\n",
      "Requirement already satisfied: jiter<1,>=0.4.0 in /opt/homebrew/Caskroom/miniconda/base/envs/py312_llm_eval/lib/python3.12/site-packages (from openai) (0.8.2)\n",
      "Requirement already satisfied: pydantic<3,>=1.9.0 in /opt/homebrew/Caskroom/miniconda/base/envs/py312_llm_eval/lib/python3.12/site-packages (from openai) (2.10.6)\n",
      "Requirement already satisfied: sniffio in /opt/homebrew/Caskroom/miniconda/base/envs/py312_llm_eval/lib/python3.12/site-packages (from openai) (1.3.1)\n",
      "Requirement already satisfied: tqdm>4 in /opt/homebrew/Caskroom/miniconda/base/envs/py312_llm_eval/lib/python3.12/site-packages (from openai) (4.67.1)\n",
      "Requirement already satisfied: typing-extensions<5,>=4.11 in /opt/homebrew/Caskroom/miniconda/base/envs/py312_llm_eval/lib/python3.12/site-packages (from openai) (4.12.2)\n",
      "Requirement already satisfied: idna>=2.8 in /opt/homebrew/Caskroom/miniconda/base/envs/py312_llm_eval/lib/python3.12/site-packages (from anyio<5,>=3.5.0->openai) (3.10)\n",
      "Requirement already satisfied: certifi in /opt/homebrew/Caskroom/miniconda/base/envs/py312_llm_eval/lib/python3.12/site-packages (from httpx<1,>=0.23.0->openai) (2024.12.14)\n",
      "Requirement already satisfied: httpcore==1.* in /opt/homebrew/Caskroom/miniconda/base/envs/py312_llm_eval/lib/python3.12/site-packages (from httpx<1,>=0.23.0->openai) (1.0.7)\n",
      "Requirement already satisfied: h11<0.15,>=0.13 in /opt/homebrew/Caskroom/miniconda/base/envs/py312_llm_eval/lib/python3.12/site-packages (from httpcore==1.*->httpx<1,>=0.23.0->openai) (0.14.0)\n",
      "Requirement already satisfied: annotated-types>=0.6.0 in /opt/homebrew/Caskroom/miniconda/base/envs/py312_llm_eval/lib/python3.12/site-packages (from pydantic<3,>=1.9.0->openai) (0.7.0)\n",
      "Requirement already satisfied: pydantic-core==2.27.2 in /opt/homebrew/Caskroom/miniconda/base/envs/py312_llm_eval/lib/python3.12/site-packages (from pydantic<3,>=1.9.0->openai) (2.27.2)\n",
      "\n",
      "\u001b[1m[\u001b[0m\u001b[34;49mnotice\u001b[0m\u001b[1;39;49m]\u001b[0m\u001b[39;49m A new release of pip is available: \u001b[0m\u001b[31;49m25.0\u001b[0m\u001b[39;49m -> \u001b[0m\u001b[32;49m25.0.1\u001b[0m\n",
      "\u001b[1m[\u001b[0m\u001b[34;49mnotice\u001b[0m\u001b[1;39;49m]\u001b[0m\u001b[39;49m To update, run: \u001b[0m\u001b[32;49mpip install --upgrade pip\u001b[0m\n",
      "Note: you may need to restart the kernel to use updated packages.\n"
     ]
    }
   ],
   "source": [
    "import os\n",
    "import getpass\n",
    "\n",
    "%pip install openai\n",
    "\n",
    "if \"OPENAI_API_KEY\" not in os.environ:\n",
    "    os.environ[\"OPENAI_API_KEY\"] = getpass.getpass(\"OPENAI_API_KEY\")"
   ]
  },
  {
   "cell_type": "code",
   "execution_count": 23,
   "metadata": {},
   "outputs": [
    {
     "name": "stdout",
     "output_type": "stream",
     "text": [
      "----- Questions chatbot ------\n",
      "What is 2 + 3 * 1031 ?\n",
      "\n",
      "   -> Now, add 2 to the result of the multiplication:\n",
      "\n",
      "2 + 3093 = 3095\n",
      "\n",
      "STOP\n",
      "Write a long poem and then summarize it in once sentence\n",
      "\n"
     ]
    },
    {
     "ename": "ValueError",
     "evalue": "Could not find tool summarize",
     "output_type": "error",
     "traceback": [
      "\u001b[0;31m---------------------------------------------------------------------------\u001b[0m",
      "\u001b[0;31mValueError\u001b[0m                                Traceback (most recent call last)",
      "Cell \u001b[0;32mIn[23], line 102\u001b[0m\n\u001b[1;32m    100\u001b[0m \u001b[38;5;28;01mfor\u001b[39;00m question \u001b[38;5;129;01min\u001b[39;00m questions:\n\u001b[1;32m    101\u001b[0m     \u001b[38;5;28mprint\u001b[39m(question \u001b[38;5;241m+\u001b[39m \u001b[38;5;124m\"\u001b[39m\u001b[38;5;130;01m\\n\u001b[39;00m\u001b[38;5;124m\"\u001b[39m)\n\u001b[0;32m--> 102\u001b[0m     res \u001b[38;5;241m=\u001b[39m \u001b[43magent\u001b[49m\u001b[38;5;241;43m.\u001b[39;49m\u001b[43mcall_agent\u001b[49m\u001b[43m(\u001b[49m\u001b[43mquestion\u001b[49m\u001b[43m)\u001b[49m\n\u001b[1;32m    103\u001b[0m     \u001b[38;5;28mprint\u001b[39m(\u001b[38;5;124m\"\u001b[39m\u001b[38;5;124m   -> \u001b[39m\u001b[38;5;124m\"\u001b[39m \u001b[38;5;241m+\u001b[39m res[\u001b[38;5;241m-\u001b[39m\u001b[38;5;241m1\u001b[39m][\u001b[38;5;124m\"\u001b[39m\u001b[38;5;124mcontent\u001b[39m\u001b[38;5;124m\"\u001b[39m])\n",
      "Cell \u001b[0;32mIn[23], line 76\u001b[0m, in \u001b[0;36mAgent.call_agent\u001b[0;34m(self, message, max_iterations)\u001b[0m\n\u001b[1;32m     73\u001b[0m             next_prompt \u001b[38;5;241m=\u001b[39m  \u001b[38;5;124mf\u001b[39m\u001b[38;5;124m\"\u001b[39m\u001b[38;5;124mResult: \u001b[39m\u001b[38;5;132;01m{\u001b[39;00mresult_tool\u001b[38;5;132;01m}\u001b[39;00m\u001b[38;5;124m\"\u001b[39m\n\u001b[1;32m     74\u001b[0m             \u001b[38;5;66;03m# self.messages.append({\"role\": \"assistant\", \"content\": next_prompt})\u001b[39;00m\n\u001b[1;32m     75\u001b[0m         \u001b[38;5;28;01melse\u001b[39;00m:\n\u001b[0;32m---> 76\u001b[0m             \u001b[38;5;28;01mraise\u001b[39;00m \u001b[38;5;167;01mValueError\u001b[39;00m(\u001b[38;5;124mf\u001b[39m\u001b[38;5;124m\"\u001b[39m\u001b[38;5;124mCould not find tool \u001b[39m\u001b[38;5;132;01m{\u001b[39;00mchosen_tool\u001b[38;5;132;01m}\u001b[39;00m\u001b[38;5;124m\"\u001b[39m)\n\u001b[1;32m     78\u001b[0m \u001b[38;5;28;01mreturn\u001b[39;00m \u001b[38;5;28mself\u001b[39m\u001b[38;5;241m.\u001b[39mmessages\n",
      "\u001b[0;31mValueError\u001b[0m: Could not find tool summarize"
     ]
    }
   ],
   "source": [
    "from openai import OpenAI\n",
    "import re\n",
    "\n",
    "\n",
    "class CalculatorTool:\n",
    "    def __init__(self, name=\"calculator\"):\n",
    "        self.name = name\n",
    "\n",
    "    def __call__(self, operation: str) -> float:\n",
    "        return eval(operation)\n",
    "\n",
    "\n",
    "class SummarizeTool:\n",
    "    def __init__(self, name: str = \"summarization\", summarization_prompt: str = \"\"):\n",
    "        self.name = name\n",
    "        self.openai_client = OpenAI()\n",
    "        self.summarization_prompt = summarization_prompt\n",
    "\n",
    "    def __call__(self, text: str) -> str:\n",
    "        completion = self.openai_client.chat.completions.create(\n",
    "            messages=[\n",
    "                {\"role\": \"user\", \"content\": self.summarization_prompt.format(text=text)}\n",
    "            ],\n",
    "            model=\"gpt-4o\",\n",
    "        )\n",
    "\n",
    "        return completion.choices[0].message.content\n",
    "\n",
    "\n",
    "class Agent:\n",
    "    def __init__(self, client: OpenAI, system: str = \"\", tools: list = []) -> None:\n",
    "        self.client = client\n",
    "        self.system = system\n",
    "        self.messages: list = []\n",
    "        self.tools = tools\n",
    "\n",
    "        if self.system:\n",
    "            self.messages.append({\"role\": \"system\", \"content\": system})\n",
    "\n",
    "    def send_message(self, message=\"\"):\n",
    "        if message:\n",
    "            self.messages.append({\"role\": \"user\", \"content\": message})\n",
    "\n",
    "        completion = self.client.chat.completions.create(\n",
    "            model=\"gpt-4o\", messages=self.messages\n",
    "        )\n",
    "\n",
    "        result = completion.choices[0].message.content\n",
    "        self.messages.append({\"role\": \"assistant\", \"content\": result})\n",
    "        return result\n",
    "\n",
    "    def call_agent(self, message: str = \"\", max_iterations: int = 10) -> str:\n",
    "        i = 0\n",
    "        next_prompt = message\n",
    "        while i < max_iterations:\n",
    "            i += 1\n",
    "            result = self.send_message(next_prompt)\n",
    "\n",
    "            if \"STOP\" in result:\n",
    "                break\n",
    "            elif \"Action\" in result:\n",
    "                action = re.findall(r\"Action: ([a-z_]+): (.+)\", result, re.IGNORECASE)\n",
    "                chosen_tool = action[0][0]\n",
    "                arg = action[0][1]\n",
    "\n",
    "                tool_names = [x.name for x in self.tools]\n",
    "                if chosen_tool in tool_names:\n",
    "                    tool = [x for x in self.tools if x.name == chosen_tool][0]\n",
    "\n",
    "                    result_tool = tool(arg)\n",
    "                    next_prompt = f\"Result: {result_tool}\"\n",
    "                    # self.messages.append({\"role\": \"assistant\", \"content\": next_prompt})\n",
    "                else:\n",
    "                    raise ValueError(f\"Could not find tool {chosen_tool}\")\n",
    "\n",
    "        return self.messages\n",
    "\n",
    "\n",
    "system_prompt = \"\"\"\n",
    "You are an LLM agent that can both summarize and calculate.\n",
    "\n",
    "You have access to the tools:\n",
    "- calculator: Calculate a formula\n",
    "- summarize: Summarize some text\n",
    "\n",
    "To call a tool, return the text:\n",
    "Action: <tool_name>: <tool_parameter>\n",
    "\n",
    "Return STOP when finished\n",
    "\"\"\"\n",
    "\n",
    "summarize_prompt = \"Summarize the text provided below.\"\n",
    "agent = Agent(\n",
    "    OpenAI(), system_prompt, [CalculatorTool(), SummarizeTool(summarize_prompt)]\n",
    ")\n",
    "\n",
    "questions = [\n",
    "    \"What is 2 + 3 * 1031 ?\",\n",
    "    \"Write a long poem and then summarize it in one sentence\",\n",
    "]\n",
    "\n",
    "print(\"----- Questions chatbot ------\")\n",
    "\n",
    "for question in questions:\n",
    "    print(question + \"\\n\")\n",
    "    res = agent.call_agent(question)\n",
    "    print(\"   -> \" + res[-1][\"content\"])"
   ]
  },
  {
   "cell_type": "code",
   "execution_count": null,
   "metadata": {},
   "outputs": [],
   "source": []
  }
 ],
 "metadata": {
  "kernelspec": {
   "display_name": "py312_llm_eval",
   "language": "python",
   "name": "python3"
  },
  "language_info": {
   "codemirror_mode": {
    "name": "ipython",
    "version": 3
   },
   "file_extension": ".py",
   "mimetype": "text/x-python",
   "name": "python",
   "nbconvert_exporter": "python",
   "pygments_lexer": "ipython3",
   "version": "3.12.4"
  }
 },
 "nbformat": 4,
 "nbformat_minor": 2
}
