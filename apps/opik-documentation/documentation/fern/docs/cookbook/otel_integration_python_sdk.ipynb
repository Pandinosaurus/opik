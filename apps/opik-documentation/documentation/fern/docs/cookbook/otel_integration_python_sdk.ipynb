{
 "cells": [
  {
   "cell_type": "markdown",
   "metadata": {
    "id": "kMEC0LbPyAdh"
   },
   "source": [
    "# Example: Using OpenTelemetry SDK with Opik OTel API\n",
    "\n",
    "This notebook demonstrates how to use any OpenTelemetry SDK to send traces to Opik. [OpenTelemetry](https://opentelemetry.io/) is a CNCF project that provides a standard way to collect distributed traces and metrics from applications.\n",
    "\n",
    "Opik operates as an [OpenTelemetry Backend](https://www.comet.com/docs/opik/tracing/opentelemetry/overview) and maps the received traces to the Opik data model according to the OpenTelemetry Gen AI Conventions.\n",
    "\n",
    "In this example, we'll use the [Python OpenTelemetry SDK](https://opentelemetry.io/docs/languages/python/) to send traces with GenAI attributes to Opik.\n",
    "\n",
    "\n",
    "## Setup"
   ]
  },
  {
   "cell_type": "code",
   "execution_count": null,
   "metadata": {
    "id": "blZJc8AEw-QD"
   },
   "outputs": [],
   "source": [
    "%pip install 'smolagents[telemetry]'"
   ]
  },
  {
   "cell_type": "markdown",
   "metadata": {},
   "source": [
    "# Prepare Opik configuration and credentials"
   ]
  },
  {
   "cell_type": "code",
   "execution_count": null,
   "metadata": {
    "id": "Y4_CLoWNr-4B"
   },
   "outputs": [],
   "source": [
    "import os\n",
    "import getpass\n",
    "\n",
    "OPIK_API_KEY = None\n",
    "OPIK_PROJECT_NAME = \"otel-python-sdk-integration\"\n",
    "OPIK_WORKSPACE = \"lothiraldan\"\n",
    "\n",
    "if OPIK_API_KEY is None and \"OPIK_API_KEY\" not in os.environ:\n",
    "    OPIK_API_KEY = getpass.getpass(\"Enter your OPIK API key: \")\n",
    "elif OPIK_API_KEY is None:\n",
    "    OPIK_API_KEY = os.environ[\"OPIK_API_KEY\"]\n",
    "\n",
    "OPIK_HOST = \"https://www.comet.com/opik/\"  # Opik Cloud\n",
    "# OPIK_HOST = \"https://<YOUR-OPIK-INSTANCE>/\" # Opik self-hosted\n",
    "\n",
    "headers = {}\n",
    "\n",
    "if OPIK_API_KEY is not None:\n",
    "    headers[\"Authorization\"] = OPIK_API_KEY\n",
    "\n",
    "if OPIK_PROJECT_NAME is not None:\n",
    "    headers[\"projectName\"] = OPIK_PROJECT_NAME\n",
    "\n",
    "if OPIK_WORKSPACE is not None:\n",
    "    headers[\"Comet-Workspace\"] = OPIK_WORKSPACE"
   ]
  },
  {
   "cell_type": "markdown",
   "metadata": {},
   "source": [
    "# Configure OpenTelemetry Python SDK"
   ]
  },
  {
   "cell_type": "code",
   "execution_count": null,
   "metadata": {},
   "outputs": [],
   "source": [
    "from opentelemetry import trace\n",
    "from opentelemetry.exporter.otlp.proto.http.trace_exporter import OTLPSpanExporter\n",
    "from opentelemetry.sdk.trace import TracerProvider\n",
    "from opentelemetry.sdk.trace.export import BatchSpanProcessor\n",
    "\n",
    "provider = TracerProvider()\n",
    "processor = BatchSpanProcessor(\n",
    "    OTLPSpanExporter(\n",
    "        endpoint=f\"{OPIK_HOST}api/v1/private/otel/v1/traces\",\n",
    "        headers=headers,\n",
    "    )\n",
    ")\n",
    "provider.add_span_processor(processor)\n",
    "trace.set_tracer_provider(provider)\n",
    "tracer = trace.get_tracer(__name__)"
   ]
  },
  {
   "cell_type": "markdown",
   "metadata": {
    "id": "bGnKN6iN3I87"
   },
   "source": [
    "## Flattened attributes\n",
    "\n",
    "Opentelemetry lets you attach a set of attributes to all spans by setting [`set_attribute`](https://opentelemetry.io/docs/languages/python/instrumentation/#add-attributes-to-a-span).\n",
    "\n",
    "**GenAI Semantic Convention Attributes:**"
   ]
  },
  {
   "cell_type": "code",
   "execution_count": null,
   "metadata": {
    "id": "tGh1O4C1xUEZ"
   },
   "outputs": [],
   "source": [
    "with tracer.start_as_current_span(\"GenAI Attributes\") as span:\n",
    "    span.set_attribute(\"gen_ai.prompt.0.role\", \"system\")\n",
    "    span.set_attribute(\n",
    "        \"gen_ai.prompt.0.content\",\n",
    "        \"You are a coding assistant that helps write Python code.\",\n",
    "    )\n",
    "    span.set_attribute(\"gen_ai.prompt.1.role\", \"user\")\n",
    "    span.set_attribute(\n",
    "        \"gen_ai.prompt.1.content\",\n",
    "        \"Write a function that calculates the factorial of a number.\",\n",
    "    )\n",
    "\n",
    "    span.set_attribute(\"gen_ai.completion.0.role\", \"assistant\")\n",
    "    span.set_attribute(\n",
    "        \"gen_ai.completion.0.content\",\n",
    "        \"\"\"def factorial(n):\n",
    "    if n == 0:\n",
    "        return 1\n",
    "    return n * factorial(n-1)\"\"\",\n",
    "    )\n",
    "\n",
    "    span.set_attribute(\"gen_ai.request.model\", \"gpt-4\")\n",
    "    span.set_attribute(\"gen_ai.request.temperature\", 0.7)\n",
    "    span.set_attribute(\"gen_ai.usage.prompt_tokens\", 25)\n",
    "    span.set_attribute(\"gen_ai.usage.completion_tokens\", 45)"
   ]
  }
 ],
 "metadata": {
  "colab": {
   "provenance": []
  },
  "kernelspec": {
   "display_name": "Python 3 (ipykernel)",
   "language": "python",
   "name": "python3"
  },
  "language_info": {
   "codemirror_mode": {
    "name": "ipython",
    "version": 3
   },
   "file_extension": ".py",
   "mimetype": "text/x-python",
   "name": "python",
   "nbconvert_exporter": "python",
   "pygments_lexer": "ipython3",
   "version": "3.10.12"
  }
 },
 "nbformat": 4,
 "nbformat_minor": 4
}
